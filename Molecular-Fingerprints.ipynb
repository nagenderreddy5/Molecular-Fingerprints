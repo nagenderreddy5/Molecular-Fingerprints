{
  "nbformat": 4,
  "nbformat_minor": 0,
  "metadata": {
    "colab": {
      "name": "Untitled0.ipynb",
      "provenance": [],
      "authorship_tag": "ABX9TyPDqIfCsR6NzkAvCFXyk8Po",
      "include_colab_link": true
    },
    "kernelspec": {
      "name": "python3",
      "display_name": "Python 3"
    }
  },
  "cells": [
    {
      "cell_type": "markdown",
      "metadata": {
        "id": "view-in-github",
        "colab_type": "text"
      },
      "source": [
        "<a href=\"https://colab.research.google.com/github/nagenderreddy5/Molecular-Fingerprints/blob/main/Molecular-Fingerprints.ipynb\" target=\"_parent\"><img src=\"https://colab.research.google.com/assets/colab-badge.svg\" alt=\"Open In Colab\"/></a>"
      ]
    },
    {
      "cell_type": "code",
      "metadata": {
        "id": "bJzBP1ROeAzu",
        "colab": {
          "base_uri": "https://localhost:8080/"
        },
        "outputId": "468618a8-fabb-4fda-9c1e-36d94147ec58"
      },
      "source": [
        "!curl -Lo conda_installer.py https://raw.githubusercontent.com/deepchem/deepchem/master/scripts/colab_install.py\n",
        "import conda_installer\n",
        "conda_installer.install()\n",
        "!/root/miniconda/bin/conda info -e\n"
      ],
      "execution_count": 2,
      "outputs": [
        {
          "output_type": "stream",
          "text": [
            "  % Total    % Received % Xferd  Average Speed   Time    Time     Time  Current\n",
            "                                 Dload  Upload   Total   Spent    Left  Speed\n",
            "\r  0     0    0     0    0     0      0      0 --:--:-- --:--:-- --:--:--     0\r100  3501  100  3501    0     0  30443      0 --:--:-- --:--:-- --:--:-- 30710\n"
          ],
          "name": "stdout"
        },
        {
          "output_type": "stream",
          "text": [
            "add /root/miniconda/lib/python3.7/site-packages to PYTHONPATH\n",
            "python version: 3.7.10\n",
            "fetching installer from https://repo.continuum.io/miniconda/Miniconda3-latest-Linux-x86_64.sh\n",
            "done\n",
            "installing miniconda to /root/miniconda\n",
            "done\n",
            "installing rdkit, openmm, pdbfixer\n",
            "added conda-forge to channels\n",
            "added omnia to channels\n",
            "done\n",
            "conda packages installation finished!\n"
          ],
          "name": "stderr"
        },
        {
          "output_type": "stream",
          "text": [
            "# conda environments:\n",
            "#\n",
            "base                  *  /root/miniconda\n",
            "\n"
          ],
          "name": "stdout"
        }
      ]
    },
    {
      "cell_type": "code",
      "metadata": {
        "colab": {
          "base_uri": "https://localhost:8080/"
        },
        "id": "HEi19xix_a48",
        "outputId": "ec5cfcd5-c239-4aa8-baf8-e6f0abce7278"
      },
      "source": [
        "!pip install --pre deepchem"
      ],
      "execution_count": 3,
      "outputs": [
        {
          "output_type": "stream",
          "text": [
            "Collecting deepchem\n",
            "\u001b[?25l  Downloading https://files.pythonhosted.org/packages/48/4f/918faea08e6f3e42dd955fd7309912cd01782ee62fc6e3a6047192add238/deepchem-2.6.0.dev20210406183355-py3-none-any.whl (553kB)\n",
            "\r\u001b[K     |▋                               | 10kB 15.9MB/s eta 0:00:01\r\u001b[K     |█▏                              | 20kB 21.1MB/s eta 0:00:01\r\u001b[K     |█▊                              | 30kB 25.7MB/s eta 0:00:01\r\u001b[K     |██▍                             | 40kB 28.2MB/s eta 0:00:01\r\u001b[K     |███                             | 51kB 30.0MB/s eta 0:00:01\r\u001b[K     |███▌                            | 61kB 32.3MB/s eta 0:00:01\r\u001b[K     |████▏                           | 71kB 21.2MB/s eta 0:00:01\r\u001b[K     |████▊                           | 81kB 18.7MB/s eta 0:00:01\r\u001b[K     |█████▎                          | 92kB 18.9MB/s eta 0:00:01\r\u001b[K     |██████                          | 102kB 19.9MB/s eta 0:00:01\r\u001b[K     |██████▌                         | 112kB 19.9MB/s eta 0:00:01\r\u001b[K     |███████                         | 122kB 19.9MB/s eta 0:00:01\r\u001b[K     |███████▊                        | 133kB 19.9MB/s eta 0:00:01\r\u001b[K     |████████▎                       | 143kB 19.9MB/s eta 0:00:01\r\u001b[K     |████████▉                       | 153kB 19.9MB/s eta 0:00:01\r\u001b[K     |█████████▌                      | 163kB 19.9MB/s eta 0:00:01\r\u001b[K     |██████████                      | 174kB 19.9MB/s eta 0:00:01\r\u001b[K     |██████████▋                     | 184kB 19.9MB/s eta 0:00:01\r\u001b[K     |███████████▎                    | 194kB 19.9MB/s eta 0:00:01\r\u001b[K     |███████████▉                    | 204kB 19.9MB/s eta 0:00:01\r\u001b[K     |████████████▍                   | 215kB 19.9MB/s eta 0:00:01\r\u001b[K     |█████████████                   | 225kB 19.9MB/s eta 0:00:01\r\u001b[K     |█████████████▋                  | 235kB 19.9MB/s eta 0:00:01\r\u001b[K     |██████████████▏                 | 245kB 19.9MB/s eta 0:00:01\r\u001b[K     |██████████████▉                 | 256kB 19.9MB/s eta 0:00:01\r\u001b[K     |███████████████▍                | 266kB 19.9MB/s eta 0:00:01\r\u001b[K     |████████████████                | 276kB 19.9MB/s eta 0:00:01\r\u001b[K     |████████████████▋               | 286kB 19.9MB/s eta 0:00:01\r\u001b[K     |█████████████████▏              | 296kB 19.9MB/s eta 0:00:01\r\u001b[K     |█████████████████▊              | 307kB 19.9MB/s eta 0:00:01\r\u001b[K     |██████████████████▍             | 317kB 19.9MB/s eta 0:00:01\r\u001b[K     |███████████████████             | 327kB 19.9MB/s eta 0:00:01\r\u001b[K     |███████████████████▌            | 337kB 19.9MB/s eta 0:00:01\r\u001b[K     |████████████████████▏           | 348kB 19.9MB/s eta 0:00:01\r\u001b[K     |████████████████████▊           | 358kB 19.9MB/s eta 0:00:01\r\u001b[K     |█████████████████████▎          | 368kB 19.9MB/s eta 0:00:01\r\u001b[K     |██████████████████████          | 378kB 19.9MB/s eta 0:00:01\r\u001b[K     |██████████████████████▌         | 389kB 19.9MB/s eta 0:00:01\r\u001b[K     |███████████████████████         | 399kB 19.9MB/s eta 0:00:01\r\u001b[K     |███████████████████████▊        | 409kB 19.9MB/s eta 0:00:01\r\u001b[K     |████████████████████████▎       | 419kB 19.9MB/s eta 0:00:01\r\u001b[K     |████████████████████████▉       | 430kB 19.9MB/s eta 0:00:01\r\u001b[K     |█████████████████████████▌      | 440kB 19.9MB/s eta 0:00:01\r\u001b[K     |██████████████████████████      | 450kB 19.9MB/s eta 0:00:01\r\u001b[K     |██████████████████████████▋     | 460kB 19.9MB/s eta 0:00:01\r\u001b[K     |███████████████████████████▎    | 471kB 19.9MB/s eta 0:00:01\r\u001b[K     |███████████████████████████▉    | 481kB 19.9MB/s eta 0:00:01\r\u001b[K     |████████████████████████████▍   | 491kB 19.9MB/s eta 0:00:01\r\u001b[K     |█████████████████████████████   | 501kB 19.9MB/s eta 0:00:01\r\u001b[K     |█████████████████████████████▋  | 512kB 19.9MB/s eta 0:00:01\r\u001b[K     |██████████████████████████████▏ | 522kB 19.9MB/s eta 0:00:01\r\u001b[K     |██████████████████████████████▉ | 532kB 19.9MB/s eta 0:00:01\r\u001b[K     |███████████████████████████████▍| 542kB 19.9MB/s eta 0:00:01\r\u001b[K     |████████████████████████████████| 552kB 19.9MB/s eta 0:00:01\r\u001b[K     |████████████████████████████████| 563kB 19.9MB/s \n",
            "\u001b[?25hRequirement already satisfied: scipy in /usr/local/lib/python3.7/dist-packages (from deepchem) (1.4.1)\n",
            "Requirement already satisfied: pandas in /usr/local/lib/python3.7/dist-packages (from deepchem) (1.1.5)\n",
            "Requirement already satisfied: numpy in /usr/local/lib/python3.7/dist-packages (from deepchem) (1.19.5)\n",
            "Requirement already satisfied: scikit-learn in /usr/local/lib/python3.7/dist-packages (from deepchem) (0.22.2.post1)\n",
            "Requirement already satisfied: joblib in /usr/local/lib/python3.7/dist-packages (from deepchem) (1.0.1)\n",
            "Requirement already satisfied: pytz>=2017.2 in /usr/local/lib/python3.7/dist-packages (from pandas->deepchem) (2018.9)\n",
            "Requirement already satisfied: python-dateutil>=2.7.3 in /usr/local/lib/python3.7/dist-packages (from pandas->deepchem) (2.8.1)\n",
            "Requirement already satisfied: six>=1.5 in /usr/local/lib/python3.7/dist-packages (from python-dateutil>=2.7.3->pandas->deepchem) (1.15.0)\n",
            "Installing collected packages: deepchem\n",
            "Successfully installed deepchem-2.6.0.dev20210406183355\n"
          ],
          "name": "stdout"
        }
      ]
    },
    {
      "cell_type": "code",
      "metadata": {
        "colab": {
          "base_uri": "https://localhost:8080/",
          "height": 35
        },
        "id": "ScfDVgzu_diV",
        "outputId": "b42855b3-5a19-4798-adde-d05cb84876f8"
      },
      "source": [
        "import deepchem as dc\n",
        "dc.__version__"
      ],
      "execution_count": 4,
      "outputs": [
        {
          "output_type": "execute_result",
          "data": {
            "application/vnd.google.colaboratory.intrinsic+json": {
              "type": "string"
            },
            "text/plain": [
              "'2.6.0.dev'"
            ]
          },
          "metadata": {
            "tags": []
          },
          "execution_count": 4
        }
      ]
    },
    {
      "cell_type": "code",
      "metadata": {
        "colab": {
          "base_uri": "https://localhost:8080/"
        },
        "id": "v4Xxi_6v_dwN",
        "outputId": "1fe96cf3-fbeb-4c0e-e2bb-7f0538bbb0a1"
      },
      "source": [
        "tasks, datasets, transformers = dc.molnet.load_tox21(featurizer='ECFP')\n",
        "train_dataset, valid_dataset, test_dataset = datasets\n",
        "print(train_dataset)"
      ],
      "execution_count": 5,
      "outputs": [
        {
          "output_type": "stream",
          "text": [
            "<DiskDataset X.shape: (6264, 1024), y.shape: (6264, 12), w.shape: (6264, 12), task_names: ['NR-AR' 'NR-AR-LBD' 'NR-AhR' ... 'SR-HSE' 'SR-MMP' 'SR-p53']>\n"
          ],
          "name": "stdout"
        }
      ]
    },
    {
      "cell_type": "code",
      "metadata": {
        "colab": {
          "base_uri": "https://localhost:8080/"
        },
        "id": "x0hPijgO_fUl",
        "outputId": "1d5b4e91-4476-45fe-c11b-54d00ee218da"
      },
      "source": [
        "train_dataset.w"
      ],
      "execution_count": 6,
      "outputs": [
        {
          "output_type": "execute_result",
          "data": {
            "text/plain": [
              "array([[1.04502242, 1.03632599, 1.12502653, ..., 1.05576503, 1.17464996,\n",
              "        1.05288369],\n",
              "       [1.04502242, 1.03632599, 1.12502653, ..., 1.05576503, 1.17464996,\n",
              "        1.05288369],\n",
              "       [1.04502242, 1.03632599, 1.12502653, ..., 1.05576503, 0.        ,\n",
              "        1.05288369],\n",
              "       ...,\n",
              "       [1.04502242, 0.        , 1.12502653, ..., 1.05576503, 6.7257384 ,\n",
              "        1.05288369],\n",
              "       [1.04502242, 1.03632599, 1.12502653, ..., 1.05576503, 6.7257384 ,\n",
              "        1.05288369],\n",
              "       [1.04502242, 1.03632599, 1.12502653, ..., 0.        , 1.17464996,\n",
              "        1.05288369]])"
            ]
          },
          "metadata": {
            "tags": []
          },
          "execution_count": 6
        }
      ]
    },
    {
      "cell_type": "code",
      "metadata": {
        "id": "bgkOkal6_ucc"
      },
      "source": [
        "#Training a Model on Fingerprints\n",
        "model = dc.models.MultitaskClassifier(n_tasks=12, n_features=1024, layer_sizes=[1000])\n"
      ],
      "execution_count": 7,
      "outputs": []
    },
    {
      "cell_type": "code",
      "metadata": {
        "colab": {
          "base_uri": "https://localhost:8080/"
        },
        "id": "kto5KDqa_u_l",
        "outputId": "2057f198-bad7-420b-e443-fd5a97b8c992"
      },
      "source": [
        "import numpy as np\n",
        "\n",
        "model.fit(train_dataset, nb_epoch=10)\n",
        "metric = dc.metrics.Metric(dc.metrics.roc_auc_score)\n",
        "print('training set score:', model.evaluate(train_dataset, [metric], transformers))\n",
        "print('test set score:', model.evaluate(test_dataset, [metric], transformers))"
      ],
      "execution_count": 8,
      "outputs": [
        {
          "output_type": "stream",
          "text": [
            "training set score: {'roc_auc_score': 0.9586858024427986}\n",
            "test set score: {'roc_auc_score': 0.6830354473959724}\n"
          ],
          "name": "stdout"
        }
      ]
    },
    {
      "cell_type": "code",
      "metadata": {
        "id": "EFlfxEk9_vQr"
      },
      "source": [
        "#website for molecular fingerprints"
      ],
      "execution_count": null,
      "outputs": []
    },
    {
      "cell_type": "code",
      "metadata": {
        "id": "WWiV4mve_vhh"
      },
      "source": [
        ""
      ],
      "execution_count": null,
      "outputs": []
    },
    {
      "cell_type": "code",
      "metadata": {
        "id": "IfsC6g-3_vtI"
      },
      "source": [
        ""
      ],
      "execution_count": null,
      "outputs": []
    },
    {
      "cell_type": "code",
      "metadata": {
        "id": "aGsvuVKs_v5Q"
      },
      "source": [
        ""
      ],
      "execution_count": null,
      "outputs": []
    }
  ]
}